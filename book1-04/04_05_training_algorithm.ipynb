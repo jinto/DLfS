{
 "cells": [
  {
   "cell_type": "markdown",
   "id": "d06be1f0",
   "metadata": {},
   "source": [
    "# 4장 신경망 학습 - 계속\n",
    "\n",
    "## 학습 알고리즘 구현\n",
    "* 손글씨 숫자 인식 MNIST 를 구현하자. \n",
    "* 신경망은 2층. 은닉층은 1개로 구현\n",
    "* 구현은 스탠퍼드 CS231n 참고했다함"
   ]
  },
  {
   "cell_type": "code",
   "execution_count": 1,
   "id": "b18b292e",
   "metadata": {},
   "outputs": [],
   "source": [
    "import sys, os\n",
    "sys.path.append(os.pardir)\n",
    "from book1_common.functions import *\n",
    "from book1_common.gradient import numerical_gradient\n",
    "\n",
    "class TwoLayerNet:\n",
    "    def __init__(self, input_size, hidden_size, output_size, weight_init_std=0.01):\n",
    "        \"\"\"\n",
    "        input_size: 입력층 뉴런 수\n",
    "        hidden_size: 은닉층 뉴런 수\n",
    "        output_size: 출력층 뉴런 수\n",
    "        \"\"\"\n",
    "        \n",
    "        # 가중치 초기화\n",
    "        self.params = {}\n",
    "        self.params['W1'] = weight_init_std * np.random.randn(input_size, hidden_size)\n",
    "        self.params['b1'] = np.zeros(hidden_size)\n",
    "        self.params['W2'] = weight_init_std * np.random.randn(hidden_size, output_size)\n",
    "        self.params['b2'] = np.zeros(output_size)\n",
    "\n",
    "    def predict(self, x):\n",
    "        \"\"\"\n",
    "        x 는 이미지 데이터. 추론해서 y 를 돌려준다.\n",
    "        \"\"\"\n",
    "        W1, W2 = self.params['W1'], self.params['W2']\n",
    "        b1, b2 = self.params['b1'], self.params['b2']\n",
    "        \n",
    "        a1 = np.dot(x, W1) + b1\n",
    "        z1 = sigmoid(a1)\n",
    "        a2 = np.dot(z1, W2) + b2\n",
    "        y = sigmoid(a2)\n",
    "        \n",
    "        return y\n",
    "    \n",
    "    def loss(self, x, t):\n",
    "        \"\"\"\n",
    "        손실 계산 : x 는 이미지 t 는 라벨\n",
    "        \"\"\"\n",
    "        y = self.predict(x)\n",
    "        return cross_entropy_error(y, t)\n",
    "    \n",
    "    def accuracy(self, x, t):\n",
    "        y = self.predict(x)\n",
    "        y = np.argmax(t, axis=1)\n",
    "        t = np.argmax(t, axis=1)\n",
    "        return np.sum(y==t)/float(x.shape[0])\n",
    "    \n",
    "    def numerical_gradient(self, x, t):\n",
    "        \"\"\"\n",
    "        각 가중치들의 손실함수에 대한 기울기를 구한다.\n",
    "        \"\"\"\n",
    "        loss_W = lambda W: self.loss(x, t)\n",
    "        \n",
    "        # 기울기값\n",
    "        grads = {}\n",
    "        grads['W1'] = numerical_gradient(loss_W, self.params['W1'])\n",
    "        grads['b1'] = numerical_gradient(loss_W, self.params['b1'])\n",
    "        grads['W2'] = numerical_gradient(loss_W, self.params['W2'])\n",
    "        grads['b2'] = numerical_gradient(loss_W, self.params['b2'])\n",
    "        return grads"
   ]
  },
  {
   "cell_type": "code",
   "execution_count": 2,
   "id": "969f3230",
   "metadata": {},
   "outputs": [
    {
     "name": "stdout",
     "output_type": "stream",
     "text": [
      "W1 (784, 100)\n",
      "b1 (100,)\n",
      "W2 (100, 10)\n",
      "b2 (10,)\n"
     ]
    }
   ],
   "source": [
    "# 생성해보면, params 에 이런 것들이 만들어진다.\n",
    "net = TwoLayerNet(input_size=784, hidden_size=100, output_size=10)\n",
    "for k,v in net.params.items():\n",
    "    print(k, v.shape)"
   ]
  },
  {
   "cell_type": "code",
   "execution_count": 3,
   "id": "d0e7ce9b",
   "metadata": {},
   "outputs": [],
   "source": [
    "# 더미데이터로 예측해보기\n",
    "x = np.random.rand(10, 784)\n",
    "y = net.predict(x)\n",
    "#print(y)"
   ]
  },
  {
   "cell_type": "code",
   "execution_count": 4,
   "id": "e695f712",
   "metadata": {},
   "outputs": [
    {
     "name": "stdout",
     "output_type": "stream",
     "text": [
      "W1 (784, 100)\n",
      "b1 (100,)\n",
      "W2 (100, 10)\n",
      "b2 (10,)\n"
     ]
    }
   ],
   "source": [
    "# 이건 실행하면 오래걸린다.\n",
    "t = np.random.rand(10, 10)  # 샘플 라벨\n",
    "grads = net.numerical_gradient(x,t)\n",
    "#print(grads)\n",
    "for k,v in grads.items():\n",
    "    print(k, v.shape)"
   ]
  },
  {
   "cell_type": "code",
   "execution_count": null,
   "id": "8c4af8e9",
   "metadata": {},
   "outputs": [],
   "source": [
    "from dataset.mnist import load_mnist\n",
    "(x_train, t_train), (x_test, t_test) = load_mnist(normalize=True, one_hot_label=True)\n",
    "train_loss_list = []\n",
    "iters_num = 10000\n",
    "train_size = x_train.shape[0]\n",
    "batch_size = 100\n",
    "learning_rate = 0.1\n",
    "\n",
    "network = TwoLayerNet(input_size=784, hidden_size=50, output_size=10)\n",
    "for i in range(iters_num):\n",
    "    batch_mask = np.random.choice(train_size, batch_size)\n",
    "    x_batch = x_train[batch_mask]\n",
    "    t_batch = t_train[batch_mask]\n",
    "    grad = network.numerical_gradient(x_batch, t_batch)\n",
    "    for key in ('W1', 'b1', 'W2', 'b2'):\n",
    "        network.params[key] -= learning_rate * grad[key]\n",
    "    loss = network.loss(x_batch, t_batch)\n",
    "    train_loss_list.append(loss)"
   ]
  },
  {
   "cell_type": "code",
   "execution_count": null,
   "id": "fd070635",
   "metadata": {},
   "outputs": [],
   "source": [
    "print(train_loss_list)"
   ]
  },
  {
   "cell_type": "code",
   "execution_count": 1,
   "id": "a1558637",
   "metadata": {},
   "outputs": [],
   "source": [
    "# TODO: 4장 마지막 부분은 진행 못함. 너무 느리고, m1 이 열을 낸다!"
   ]
  },
  {
   "cell_type": "code",
   "execution_count": null,
   "id": "5373d4b8",
   "metadata": {},
   "outputs": [],
   "source": []
  }
 ],
 "metadata": {
  "kernelspec": {
   "display_name": "Python 3 (ipykernel)",
   "language": "python",
   "name": "python3"
  },
  "language_info": {
   "codemirror_mode": {
    "name": "ipython",
    "version": 3
   },
   "file_extension": ".py",
   "mimetype": "text/x-python",
   "name": "python",
   "nbconvert_exporter": "python",
   "pygments_lexer": "ipython3",
   "version": "3.10.12"
  }
 },
 "nbformat": 4,
 "nbformat_minor": 5
}
