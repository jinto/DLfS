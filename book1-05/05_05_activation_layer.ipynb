{
 "cells": [
  {
   "cell_type": "markdown",
   "id": "cd99d43d",
   "metadata": {},
   "source": [
    "# 활성화 계층 구현\n"
   ]
  },
  {
   "cell_type": "code",
   "execution_count": null,
   "id": "89c9a44a",
   "metadata": {},
   "outputs": [],
   "source": []
  }
 ],
 "metadata": {
  "kernelspec": {
   "display_name": "Python 3 (ipykernel)",
   "language": "python",
   "name": "python3"
  },
  "language_info": {
   "codemirror_mode": {
    "name": "ipython",
    "version": 3
   },
   "file_extension": ".py",
   "mimetype": "text/x-python",
   "name": "python",
   "nbconvert_exporter": "python",
   "pygments_lexer": "ipython3",
   "version": "3.10.8"
  }
 },
 "nbformat": 4,
 "nbformat_minor": 5
}
