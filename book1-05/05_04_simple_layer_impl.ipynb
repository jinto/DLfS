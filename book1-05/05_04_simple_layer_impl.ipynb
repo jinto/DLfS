{
 "cells": [
  {
   "cell_type": "markdown",
   "id": "a6e37b7b",
   "metadata": {},
   "source": [
    "# 5장 오차역전파법\n",
    "\n",
    "## 간단한 계층 구현하기"
   ]
  },
  {
   "cell_type": "code",
   "execution_count": 11,
   "id": "b6006d8d",
   "metadata": {},
   "outputs": [],
   "source": [
    "class MulLayer:\n",
    "    def __init__(self):\n",
    "        self.x = None\n",
    "        self.y = None\n",
    "    def forward(self, x, y):\n",
    "        self.x = x\n",
    "        self.y = y\n",
    "        out = x * y\n",
    "        return out\n",
    "    def backward(self, dout):\n",
    "        dx = dout * self.y\n",
    "        dy = dout * self.x\n",
    "        return dx, dy\n"
   ]
  },
  {
   "cell_type": "code",
   "execution_count": 13,
   "id": "c60c02db",
   "metadata": {},
   "outputs": [
    {
     "name": "stdout",
     "output_type": "stream",
     "text": [
      "220.00000000000003\n"
     ]
    }
   ],
   "source": [
    "# 오랜만에 진지한 공부 힘들다. 장난삼아 한글로 코딩해보자\n",
    "사과_가격 = 100\n",
    "사과_갯수 = 2\n",
    "세금 = 1.1\n",
    "\n",
    "사과_갯수_곱_계층 = MulLayer()\n",
    "세금_곱_계층 = MulLayer()\n",
    "\n",
    "사과_갯수_곱_가격 = 사과_갯수_곱_계층.forward(사과_가격, 사과_갯수)\n",
    "최종_가격 = 세금_곱_계층.forward(사과_갯수_곱_가격, 세금)\n",
    "\n",
    "print(최종_가격)"
   ]
  },
  {
   "cell_type": "code",
   "execution_count": 16,
   "id": "d4982455",
   "metadata": {},
   "outputs": [
    {
     "name": "stdout",
     "output_type": "stream",
     "text": [
      "2.2 110.00000000000001 1.1 200\n"
     ]
    }
   ],
   "source": [
    "# 역전파\n",
    "d_price = 1\n",
    "d_mul_price, d_tax = 세금_곱_계층.backward(d_price)\n",
    "d_apple_price, d_apple_num = 사과_갯수_곱_계층.backward(d_mul_price)\n",
    "print(d_apple_price, d_apple_num, d_mul_price, d_tax)"
   ]
  },
  {
   "cell_type": "code",
   "execution_count": null,
   "id": "0166b02f",
   "metadata": {},
   "outputs": [],
   "source": [
    "def AddLayer:\n",
    "    def __init__(self):\n",
    "        pass\n",
    "    def forward(self, x, y):\n",
    "        return x+y\n",
    "    def backward(self, dout):\n",
    "        dx = dout*1\n",
    "        dy = dout*1\n",
    "        return dx, dy"
   ]
  }
 ],
 "metadata": {
  "kernelspec": {
   "display_name": "Python 3 (ipykernel)",
   "language": "python",
   "name": "python3"
  },
  "language_info": {
   "codemirror_mode": {
    "name": "ipython",
    "version": 3
   },
   "file_extension": ".py",
   "mimetype": "text/x-python",
   "name": "python",
   "nbconvert_exporter": "python",
   "pygments_lexer": "ipython3",
   "version": "3.10.12"
  }
 },
 "nbformat": 4,
 "nbformat_minor": 5
}
